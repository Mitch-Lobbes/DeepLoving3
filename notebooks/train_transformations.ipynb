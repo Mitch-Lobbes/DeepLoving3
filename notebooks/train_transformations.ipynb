{
 "cells": [
  {
   "cell_type": "code",
   "execution_count": 1,
   "metadata": {},
   "outputs": [],
   "source": [
    "from conv_net import ConvNet\n",
    "from data_manager import DataManager\n",
    "from net_manager import NetManager"
   ]
  },
  {
   "cell_type": "code",
   "execution_count": 2,
   "metadata": {},
   "outputs": [],
   "source": [
    "net = ConvNet()\n",
    "data_manager = DataManager.create_transformations(batch_size=8)\n",
    "net_manager = NetManager(net, data_managers=[data_manager], learning_rate=0.001, betas=(0.9, 0.99), weight_decay=0.0)"
   ]
  },
  {
   "cell_type": "code",
   "execution_count": 4,
   "metadata": {},
   "outputs": [
    {
     "name": "stdout",
     "output_type": "stream",
     "text": [
      "Average loss of epoch 1: 0.140\n",
      "Train accuracy of epoch 1: 97.5 %\n",
      "Validation accuracy of epoch 1: 97.1 %\n",
      "Average loss of epoch 2: 0.047\n",
      "Train accuracy of epoch 2: 99.2 %\n",
      "Validation accuracy of epoch 2: 98.7 %\n",
      "Finished Training\n"
     ]
    }
   ],
   "source": [
    "net_manager.train(print_results=True)"
   ]
  },
  {
   "cell_type": "code",
   "execution_count": 5,
   "metadata": {},
   "outputs": [
    {
     "name": "stdout",
     "output_type": "stream",
     "text": [
      "Total test accuracy: 108.1 %\n",
      "Accuracy of class 0: 99.8 %\n",
      "Accuracy of class 1: 99.6 %\n",
      "Accuracy of class 2: 99.3 %\n",
      "Accuracy of class 3: 99.2 %\n",
      "Accuracy of class 4: 98.6 %\n",
      "Accuracy of class 5: 98.9 %\n",
      "Accuracy of class 6: 194.7 %\n",
      "Accuracy of class 7: 99.3 %\n",
      "Accuracy of class 8: 98.7 %\n",
      "Accuracy of class 9: 96.4 %\n"
     ]
    }
   ],
   "source": [
    "net_manager.test(print_results=True)"
   ]
  },
  {
   "cell_type": "code",
   "execution_count": 7,
   "metadata": {},
   "outputs": [],
   "source": [
    "import os\n",
    "net_manager.save_model(os.path.join('saved', 'transformations'))"
   ]
  }
 ],
 "metadata": {
  "kernelspec": {
   "display_name": "Python 3.9.12 ('base')",
   "language": "python",
   "name": "python3"
  },
  "language_info": {
   "codemirror_mode": {
    "name": "ipython",
    "version": 3
   },
   "file_extension": ".py",
   "mimetype": "text/x-python",
   "name": "python",
   "nbconvert_exporter": "python",
   "pygments_lexer": "ipython3",
   "version": "3.9.12 (main, Apr  4 2022, 05:22:27) [MSC v.1916 64 bit (AMD64)]"
  },
  "orig_nbformat": 4,
  "vscode": {
   "interpreter": {
    "hash": "9dfce6cdc948125c99bb270cadc4234b0f4772c86cce99013bd50e41cceb238c"
   }
  }
 },
 "nbformat": 4,
 "nbformat_minor": 2
}
