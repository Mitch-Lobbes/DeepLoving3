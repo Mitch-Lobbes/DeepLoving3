{
 "cells": [
  {
   "cell_type": "code",
   "execution_count": 15,
   "metadata": {},
   "outputs": [],
   "source": [
    "import glob\n",
    "import os\n",
    "from PIL import Image\n",
    "import shutil "
   ]
  },
  {
   "cell_type": "code",
   "execution_count": 16,
   "metadata": {},
   "outputs": [],
   "source": [
    "sizes = {\n",
    "    'small': (32, 32),\n",
    "    'med': (48, 48),\n",
    "    'large': (64, 64)\n",
    "}"
   ]
  },
  {
   "cell_type": "code",
   "execution_count": 17,
   "metadata": {},
   "outputs": [],
   "source": [
    "for size in ['small', 'med', 'large']:\n",
    "    new_root_folder = os.path.join('data','mnist-varres-' + size)\n",
    "    if not os.path.exists(new_root_folder):\n",
    "        os.makedirs(new_root_folder)\n",
    "\n",
    "    orig_folders = glob.glob(os.path.join('data', 'mnist-varres', '*'))\n",
    "    for orig_folder in orig_folders:\n",
    "        folder_name = os.path.normpath(orig_folder).split(os.sep)[-1]\n",
    "        new_folder = os.path.join(new_root_folder, folder_name)\n",
    "        if not os.path.exists(new_folder):\n",
    "            os.makedirs(new_folder)\n",
    "\n",
    "        orig_sub_folders = glob.glob(os.path.join(orig_folder, '*'))\n",
    "        for orig_sub_folder in orig_sub_folders:\n",
    "            sub_folder_name = os.path.normpath(orig_sub_folder).split(os.sep)[-1]\n",
    "            new_sub_folder = os.path.join(new_folder, sub_folder_name)\n",
    "            if not os.path.exists(new_sub_folder):\n",
    "                os.makedirs(new_sub_folder)\n",
    "\n",
    "            for orig_img in glob.glob(os.path.join(orig_sub_folder, '*.png')):\n",
    "                img = Image.open(orig_img)\n",
    "                desired_size = sizes[size]\n",
    "                if (img.width, img.height) == desired_size:\n",
    "                    img_name = os.path.normpath(orig_img).split(os.sep)[-1]\n",
    "                    new_img = os.path.join(new_sub_folder, img_name)\n",
    "                    if not os.path.exists(new_img):\n",
    "                        shutil.copy(orig_img, new_img)"
   ]
  }
 ],
 "metadata": {
  "kernelspec": {
   "display_name": "base",
   "language": "python",
   "name": "python3"
  },
  "language_info": {
   "codemirror_mode": {
    "name": "ipython",
    "version": 3
   },
   "file_extension": ".py",
   "mimetype": "text/x-python",
   "name": "python",
   "nbconvert_exporter": "python",
   "pygments_lexer": "ipython3",
   "version": "3.9.12 (main, Apr  4 2022, 05:22:27) [MSC v.1916 64 bit (AMD64)]"
  },
  "orig_nbformat": 4,
  "vscode": {
   "interpreter": {
    "hash": "9dfce6cdc948125c99bb270cadc4234b0f4772c86cce99013bd50e41cceb238c"
   }
  }
 },
 "nbformat": 4,
 "nbformat_minor": 2
}
