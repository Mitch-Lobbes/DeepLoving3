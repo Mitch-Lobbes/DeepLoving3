{
 "cells": [
  {
   "cell_type": "code",
   "execution_count": 1,
   "metadata": {},
   "outputs": [],
   "source": [
    "from conv_net import ConvNetVariable\n",
    "from data_manager import DataManager\n",
    "from net_manager import NetManager\n",
    "import os"
   ]
  },
  {
   "cell_type": "code",
   "execution_count": 2,
   "metadata": {},
   "outputs": [],
   "source": [
    "net_max = ConvNetVariable(N=81, pool_type='max')\n",
    "net_avg = ConvNetVariable(N=81, pool_type='avg')\n",
    "data_managers_max = DataManager.create_different_sizes(batch_size=8)\n",
    "data_managers_avg = DataManager.create_different_sizes(batch_size=8)\n",
    "net_manager_max = NetManager(net_max, data_managers=data_managers_max, learning_rate=0.001, betas=(0.9, 0.99), weight_decay=0.0)\n",
    "net_manager_avg = NetManager(net_max, data_managers=data_managers_avg, learning_rate=0.001, betas=(0.9, 0.99), weight_decay=0.0)"
   ]
  },
  {
   "cell_type": "code",
   "execution_count": 3,
   "metadata": {},
   "outputs": [
    {
     "name": "stdout",
     "output_type": "stream",
     "text": [
      "Average loss of epoch 1: 0.718\n",
      "Train accuracy of epoch 1: 98.4 %\n",
      "Validation accuracy of epoch 1: 97.6 %\n",
      "Average loss of epoch 2: 0.215\n",
      "Train accuracy of epoch 2: 98.5 %\n",
      "Validation accuracy of epoch 2: 97.7 %\n",
      "Finished Training\n"
     ]
    }
   ],
   "source": [
    "net_manager_max.train(print_results=True)"
   ]
  },
  {
   "cell_type": "code",
   "execution_count": 4,
   "metadata": {},
   "outputs": [
    {
     "name": "stdout",
     "output_type": "stream",
     "text": [
      "Average loss of epoch 1: 0.158\n",
      "Train accuracy of epoch 1: 98.2 %\n",
      "Validation accuracy of epoch 1: 97.6 %\n",
      "Average loss of epoch 2: 0.120\n",
      "Train accuracy of epoch 2: 99.3 %\n",
      "Validation accuracy of epoch 2: 98.9 %\n",
      "Finished Training\n"
     ]
    }
   ],
   "source": [
    "net_manager_avg.train(print_results=True)"
   ]
  }
 ],
 "metadata": {
  "kernelspec": {
   "display_name": "Python 3.9.12 ('base')",
   "language": "python",
   "name": "python3"
  },
  "language_info": {
   "codemirror_mode": {
    "name": "ipython",
    "version": 3
   },
   "file_extension": ".py",
   "mimetype": "text/x-python",
   "name": "python",
   "nbconvert_exporter": "python",
   "pygments_lexer": "ipython3",
   "version": "3.9.12"
  },
  "orig_nbformat": 4,
  "vscode": {
   "interpreter": {
    "hash": "9dfce6cdc948125c99bb270cadc4234b0f4772c86cce99013bd50e41cceb238c"
   }
  }
 },
 "nbformat": 4,
 "nbformat_minor": 2
}
