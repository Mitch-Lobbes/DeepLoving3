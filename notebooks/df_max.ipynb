{
 "cells": [
  {
   "cell_type": "code",
   "execution_count": 1,
   "metadata": {},
   "outputs": [],
   "source": [
    "import pandas as pd"
   ]
  },
  {
   "cell_type": "code",
   "execution_count": 2,
   "metadata": {},
   "outputs": [],
   "source": [
    "df = pd.read_csv('saved/parameter_tuning_variable.csv')"
   ]
  },
  {
   "cell_type": "code",
   "execution_count": 3,
   "metadata": {},
   "outputs": [
    {
     "name": "stdout",
     "output_type": "stream",
     "text": [
      "   batch_size  learning_rate  beta_1  beta_2  weight_decay  epoch  train_loss  \\\n",
      "0         8.0          0.001     0.8   0.999           0.0    0.0    1.603102   \n",
      "1         8.0          0.001     0.8   0.999           0.0    1.0    0.496385   \n",
      "2         8.0          0.001     0.9   0.999           0.0    0.0    1.285725   \n",
      "3         8.0          0.001     0.9   0.999           0.0    1.0    0.443928   \n",
      "4         8.0          0.010     0.8   0.999           0.0    0.0    2.088842   \n",
      "\n",
      "   train_accuracy  val_accuracy  \n",
      "0        0.938648      0.927018  \n",
      "1        0.966762      0.953262  \n",
      "2        0.953080      0.940015  \n",
      "3        0.968387      0.956761  \n",
      "4        0.923966      0.902524  \n"
     ]
    }
   ],
   "source": [
    "print(df.head())"
   ]
  },
  {
   "cell_type": "code",
   "execution_count": 4,
   "metadata": {},
   "outputs": [],
   "source": [
    "df = df[df.epoch != 0.0]"
   ]
  },
  {
   "cell_type": "code",
   "execution_count": 5,
   "metadata": {},
   "outputs": [
    {
     "name": "stdout",
     "output_type": "stream",
     "text": [
      "batch_size        8.000000\n",
      "learning_rate     0.001000\n",
      "beta_1            0.900000\n",
      "beta_2            0.999000\n",
      "weight_decay      0.000000\n",
      "epoch             1.000000\n",
      "train_loss        0.443928\n",
      "train_accuracy    0.968387\n",
      "val_accuracy      0.956761\n",
      "Name: 3, dtype: float64\n"
     ]
    }
   ],
   "source": [
    "max_row = df.loc[df['val_accuracy'].idxmax()]\n",
    "print(max_row)"
   ]
  }
 ],
 "metadata": {
  "kernelspec": {
   "display_name": "base",
   "language": "python",
   "name": "python3"
  },
  "language_info": {
   "codemirror_mode": {
    "name": "ipython",
    "version": 3
   },
   "file_extension": ".py",
   "mimetype": "text/x-python",
   "name": "python",
   "nbconvert_exporter": "python",
   "pygments_lexer": "ipython3",
   "version": "3.9.12"
  },
  "orig_nbformat": 4,
  "vscode": {
   "interpreter": {
    "hash": "9dfce6cdc948125c99bb270cadc4234b0f4772c86cce99013bd50e41cceb238c"
   }
  }
 },
 "nbformat": 4,
 "nbformat_minor": 2
}
