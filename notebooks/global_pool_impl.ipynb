{
 "cells": [
  {
   "cell_type": "code",
   "execution_count": 1,
   "metadata": {},
   "outputs": [],
   "source": [
    "import torch"
   ]
  },
  {
   "cell_type": "code",
   "execution_count": 3,
   "metadata": {},
   "outputs": [
    {
     "name": "stdout",
     "output_type": "stream",
     "text": [
      "torch.Size([5, 3, 10, 15])\n"
     ]
    }
   ],
   "source": [
    "b = 5\n",
    "c = 3\n",
    "h = 10\n",
    "w = 15\n",
    "input_tensor = torch.zeros((b, c, h, w))\n",
    "print(input_tensor.shape)"
   ]
  },
  {
   "cell_type": "code",
   "execution_count": 6,
   "metadata": {},
   "outputs": [],
   "source": [
    "max_tensor = torch.nn.functional.max_pool2d(input_tensor, kernel_size=input_tensor.size()[2:]).reshape((b,c))\n",
    "mean_tensor = torch.nn.functional.avg_pool2d(input_tensor, kernel_size=input_tensor.size()[2:]).reshape((b,c))"
   ]
  },
  {
   "cell_type": "code",
   "execution_count": 7,
   "metadata": {},
   "outputs": [
    {
     "name": "stdout",
     "output_type": "stream",
     "text": [
      "torch.Size([5, 3])\n",
      "torch.Size([5, 3])\n"
     ]
    }
   ],
   "source": [
    "print(max_tensor.shape)\n",
    "print(mean_tensor.shape)"
   ]
  }
 ],
 "metadata": {
  "kernelspec": {
   "display_name": "base",
   "language": "python",
   "name": "python3"
  },
  "language_info": {
   "codemirror_mode": {
    "name": "ipython",
    "version": 3
   },
   "file_extension": ".py",
   "mimetype": "text/x-python",
   "name": "python",
   "nbconvert_exporter": "python",
   "pygments_lexer": "ipython3",
   "version": "3.9.12 (main, Apr  4 2022, 05:22:27) [MSC v.1916 64 bit (AMD64)]"
  },
  "orig_nbformat": 4,
  "vscode": {
   "interpreter": {
    "hash": "9dfce6cdc948125c99bb270cadc4234b0f4772c86cce99013bd50e41cceb238c"
   }
  }
 },
 "nbformat": 4,
 "nbformat_minor": 2
}
