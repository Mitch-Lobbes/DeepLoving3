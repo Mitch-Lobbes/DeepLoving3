{
 "cells": [
  {
   "cell_type": "code",
   "execution_count": 8,
   "metadata": {},
   "outputs": [],
   "source": [
    "from hyperparameter_tuner import Tuner"
   ]
  },
  {
   "cell_type": "code",
   "execution_count": 9,
   "metadata": {},
   "outputs": [],
   "source": [
    "num_epochs = 2\n",
    "batch_sizes = [8, 16, 32]\n",
    "learning_rates = [0.0001, 0.001, 0.01]\n",
    "betas_1 = [0.8, 0.9]\n",
    "betas_2 = [0.99, 0.999]\n",
    "weight_decays = [0.0, 0.1]"
   ]
  },
  {
   "cell_type": "code",
   "execution_count": 11,
   "metadata": {},
   "outputs": [],
   "source": [
    "tuner = Tuner(num_epochs, batch_sizes, learning_rates, betas_1, betas_2, weight_decays, net_type='variable')"
   ]
  },
  {
   "cell_type": "code",
   "execution_count": 12,
   "metadata": {},
   "outputs": [
    {
     "name": "stderr",
     "output_type": "stream",
     "text": [
      "c:\\Users\\loicm\\Documents\\Artificial Intelligence\\Courses\\XM_0083 Deep Learning\\Assignment 3\\DeepLoving3\\hyperparameter_tuner.py:52: FutureWarning: The frame.append method is deprecated and will be removed from pandas in a future version. Use pandas.concat instead.\n",
      "  self.df = self.df.append(row, ignore_index=True)\n",
      "c:\\Users\\loicm\\Documents\\Artificial Intelligence\\Courses\\XM_0083 Deep Learning\\Assignment 3\\DeepLoving3\\hyperparameter_tuner.py:52: FutureWarning: The frame.append method is deprecated and will be removed from pandas in a future version. Use pandas.concat instead.\n",
      "  self.df = self.df.append(row, ignore_index=True)\n",
      "c:\\Users\\loicm\\Documents\\Artificial Intelligence\\Courses\\XM_0083 Deep Learning\\Assignment 3\\DeepLoving3\\hyperparameter_tuner.py:52: FutureWarning: The frame.append method is deprecated and will be removed from pandas in a future version. Use pandas.concat instead.\n",
      "  self.df = self.df.append(row, ignore_index=True)\n",
      "c:\\Users\\loicm\\Documents\\Artificial Intelligence\\Courses\\XM_0083 Deep Learning\\Assignment 3\\DeepLoving3\\hyperparameter_tuner.py:52: FutureWarning: The frame.append method is deprecated and will be removed from pandas in a future version. Use pandas.concat instead.\n",
      "  self.df = self.df.append(row, ignore_index=True)\n",
      "c:\\Users\\loicm\\Documents\\Artificial Intelligence\\Courses\\XM_0083 Deep Learning\\Assignment 3\\DeepLoving3\\hyperparameter_tuner.py:52: FutureWarning: The frame.append method is deprecated and will be removed from pandas in a future version. Use pandas.concat instead.\n",
      "  self.df = self.df.append(row, ignore_index=True)\n",
      "c:\\Users\\loicm\\Documents\\Artificial Intelligence\\Courses\\XM_0083 Deep Learning\\Assignment 3\\DeepLoving3\\hyperparameter_tuner.py:52: FutureWarning: The frame.append method is deprecated and will be removed from pandas in a future version. Use pandas.concat instead.\n",
      "  self.df = self.df.append(row, ignore_index=True)\n",
      "c:\\Users\\loicm\\Documents\\Artificial Intelligence\\Courses\\XM_0083 Deep Learning\\Assignment 3\\DeepLoving3\\hyperparameter_tuner.py:52: FutureWarning: The frame.append method is deprecated and will be removed from pandas in a future version. Use pandas.concat instead.\n",
      "  self.df = self.df.append(row, ignore_index=True)\n",
      "c:\\Users\\loicm\\Documents\\Artificial Intelligence\\Courses\\XM_0083 Deep Learning\\Assignment 3\\DeepLoving3\\hyperparameter_tuner.py:52: FutureWarning: The frame.append method is deprecated and will be removed from pandas in a future version. Use pandas.concat instead.\n",
      "  self.df = self.df.append(row, ignore_index=True)\n"
     ]
    }
   ],
   "source": [
    "df = tuner.run()"
   ]
  },
  {
   "cell_type": "code",
   "execution_count": 13,
   "metadata": {},
   "outputs": [
    {
     "name": "stdout",
     "output_type": "stream",
     "text": [
      "   batch_size  learning_rate  beta_1  beta_2  weight_decay  epoch  train_loss  \\\n",
      "0         8.0          0.001     0.8   0.999           0.0    0.0    1.603102   \n",
      "1         8.0          0.001     0.8   0.999           0.0    1.0    0.496385   \n",
      "2         8.0          0.001     0.9   0.999           0.0    0.0    1.285725   \n",
      "3         8.0          0.001     0.9   0.999           0.0    1.0    0.443928   \n",
      "4         8.0          0.010     0.8   0.999           0.0    0.0    2.088842   \n",
      "\n",
      "   train_accuracy  val_accuracy  \n",
      "0        0.938648      0.927018  \n",
      "1        0.966762      0.953262  \n",
      "2        0.953080      0.940015  \n",
      "3        0.968387      0.956761  \n",
      "4        0.923966      0.902524  \n"
     ]
    }
   ],
   "source": [
    "print(df.head())"
   ]
  },
  {
   "cell_type": "code",
   "execution_count": 14,
   "metadata": {},
   "outputs": [],
   "source": [
    "df.to_csv('saved/parameter_tuning_variable.csv', index=False)"
   ]
  }
 ],
 "metadata": {
  "kernelspec": {
   "display_name": "base",
   "language": "python",
   "name": "python3"
  },
  "language_info": {
   "codemirror_mode": {
    "name": "ipython",
    "version": 3
   },
   "file_extension": ".py",
   "mimetype": "text/x-python",
   "name": "python",
   "nbconvert_exporter": "python",
   "pygments_lexer": "ipython3",
   "version": "3.9.12 (main, Apr  4 2022, 05:22:27) [MSC v.1916 64 bit (AMD64)]"
  },
  "orig_nbformat": 4,
  "vscode": {
   "interpreter": {
    "hash": "9dfce6cdc948125c99bb270cadc4234b0f4772c86cce99013bd50e41cceb238c"
   }
  }
 },
 "nbformat": 4,
 "nbformat_minor": 2
}
