{
 "cells": [
  {
   "cell_type": "code",
   "execution_count": 1,
   "metadata": {},
   "outputs": [],
   "source": [
    "from conv_net import ConvNet\n",
    "from data_manager import DataManager\n",
    "from net_manager import NetManager"
   ]
  },
  {
   "cell_type": "code",
   "execution_count": 2,
   "metadata": {},
   "outputs": [],
   "source": [
    "net = ConvNet()\n",
    "data_manager = DataManager(dataset='mnist-varres', batch_size=8)\n",
    "net_manager = NetManager(net, data_manager=data_manager, learning_rate=0.001, betas=(0.9, 0.99), weight_decay=0.0)"
   ]
  },
  {
   "cell_type": "code",
   "execution_count": 3,
   "metadata": {},
   "outputs": [
    {
     "name": "stdout",
     "output_type": "stream",
     "text": [
      "Average loss of epoch 1: 0.559\n",
      "Train accuracy of epoch 1: 93.6 %\n",
      "Validation accuracy of epoch 1: 93.2 %\n",
      "Average loss of epoch 2: 0.202\n",
      "Train accuracy of epoch 2: 95.2 %\n",
      "Validation accuracy of epoch 2: 94.7 %\n",
      "Finished Training\n"
     ]
    }
   ],
   "source": [
    "net_manager.train(print_results=True)"
   ]
  },
  {
   "cell_type": "code",
   "execution_count": 4,
   "metadata": {},
   "outputs": [
    {
     "name": "stdout",
     "output_type": "stream",
     "text": [
      "Total test accuracy: 94.5 %\n",
      "Accuracy of class 0: 96.0 %\n",
      "Accuracy of class 1: 98.9 %\n",
      "Accuracy of class 2: 99.2 %\n",
      "Accuracy of class 3: 96.8 %\n",
      "Accuracy of class 4: 93.0 %\n",
      "Accuracy of class 5: 89.9 %\n",
      "Accuracy of class 6: 94.8 %\n",
      "Accuracy of class 7: 94.6 %\n",
      "Accuracy of class 8: 91.9 %\n",
      "Accuracy of class 9: 88.8 %\n"
     ]
    }
   ],
   "source": [
    "net_manager.test(print_results=True)"
   ]
  },
  {
   "cell_type": "code",
   "execution_count": 5,
   "metadata": {},
   "outputs": [],
   "source": [
    "net_manager.save_model()"
   ]
  }
 ],
 "metadata": {
  "kernelspec": {
   "display_name": "Python 3.9.12 ('base')",
   "language": "python",
   "name": "python3"
  },
  "language_info": {
   "codemirror_mode": {
    "name": "ipython",
    "version": 3
   },
   "file_extension": ".py",
   "mimetype": "text/x-python",
   "name": "python",
   "nbconvert_exporter": "python",
   "pygments_lexer": "ipython3",
   "version": "3.9.12"
  },
  "orig_nbformat": 4,
  "vscode": {
   "interpreter": {
    "hash": "9dfce6cdc948125c99bb270cadc4234b0f4772c86cce99013bd50e41cceb238c"
   }
  }
 },
 "nbformat": 4,
 "nbformat_minor": 2
}
