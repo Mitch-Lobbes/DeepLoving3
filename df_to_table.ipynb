{
 "cells": [
  {
   "cell_type": "code",
   "execution_count": 1,
   "metadata": {},
   "outputs": [],
   "source": [
    "import pandas as pd"
   ]
  },
  {
   "cell_type": "code",
   "execution_count": 4,
   "metadata": {},
   "outputs": [],
   "source": [
    "df = pd.read_csv('saved/parameter_tuning.csv')"
   ]
  },
  {
   "cell_type": "code",
   "execution_count": 5,
   "metadata": {},
   "outputs": [
    {
     "name": "stdout",
     "output_type": "stream",
     "text": [
      "   batch_size  learning_rate  beta_1  beta_2  weight_decay  epoch  train_loss  \\\n",
      "0         8.0         0.0001     0.8   0.990           0.0    0.0    0.449700   \n",
      "1         8.0         0.0001     0.8   0.990           0.0    1.0    0.117327   \n",
      "2         8.0         0.0001     0.8   0.990           0.1    0.0    0.778495   \n",
      "3         8.0         0.0001     0.8   0.990           0.1    1.0    0.410388   \n",
      "4         8.0         0.0001     0.8   0.999           0.0    0.0    0.394270   \n",
      "\n",
      "   train_accuracy  val_accuracy  \n",
      "0         0.95838        0.9620  \n",
      "1         0.97326        0.9751  \n",
      "2         0.87832        0.8779  \n",
      "3         0.90420        0.9065  \n",
      "4         0.95494        0.9580  \n"
     ]
    }
   ],
   "source": [
    "print(df.head())"
   ]
  },
  {
   "cell_type": "code",
   "execution_count": 10,
   "metadata": {},
   "outputs": [],
   "source": [
    "df = df[df.epoch != 0.0]"
   ]
  },
  {
   "cell_type": "code",
   "execution_count": 22,
   "metadata": {},
   "outputs": [
    {
     "name": "stderr",
     "output_type": "stream",
     "text": [
      "C:\\Users\\loicm\\AppData\\Local\\Temp\\ipykernel_4460\\2306454867.py:1: FutureWarning: In future versions `DataFrame.to_latex` is expected to utilise the base implementation of `Styler.to_latex` for formatting and rendering. The arguments signature may therefore change. It is recommended instead to use `DataFrame.style.to_latex` which also contains additional functionality.\n",
      "  latex_table = df.to_latex(index=False)\n"
     ]
    }
   ],
   "source": [
    "latex_table = df.to_latex(index=False)"
   ]
  },
  {
   "cell_type": "code",
   "execution_count": 23,
   "metadata": {},
   "outputs": [],
   "source": [
    "with open('../DL_Assignment_3A/tables/parameter_turning.tex', 'w') as fout:\n",
    "    fout.write(latex_table)"
   ]
  },
  {
   "cell_type": "code",
   "execution_count": 28,
   "metadata": {},
   "outputs": [
    {
     "name": "stdout",
     "output_type": "stream",
     "text": [
      "batch_size        16.000000\n",
      "learning_rate      0.000100\n",
      "beta_1             0.800000\n",
      "beta_2             0.990000\n",
      "weight_decay       0.100000\n",
      "epoch              1.000000\n",
      "train_loss         0.471233\n",
      "train_accuracy     0.891800\n",
      "val_accuracy       0.894000\n",
      "Name: 51, dtype: float64\n"
     ]
    }
   ],
   "source": [
    "max_row = df.iloc[df['val_accuracy'].idxmax()]\n",
    "print(max_row)"
   ]
  }
 ],
 "metadata": {
  "kernelspec": {
   "display_name": "base",
   "language": "python",
   "name": "python3"
  },
  "language_info": {
   "codemirror_mode": {
    "name": "ipython",
    "version": 3
   },
   "file_extension": ".py",
   "mimetype": "text/x-python",
   "name": "python",
   "nbconvert_exporter": "python",
   "pygments_lexer": "ipython3",
   "version": "3.9.12"
  },
  "orig_nbformat": 4,
  "vscode": {
   "interpreter": {
    "hash": "9dfce6cdc948125c99bb270cadc4234b0f4772c86cce99013bd50e41cceb238c"
   }
  }
 },
 "nbformat": 4,
 "nbformat_minor": 2
}
