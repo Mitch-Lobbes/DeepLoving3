{
 "cells": [
  {
   "cell_type": "code",
   "execution_count": 1,
   "metadata": {},
   "outputs": [],
   "source": [
    "from LoNet import LoNet, LoNetHandler"
   ]
  },
  {
   "cell_type": "code",
   "execution_count": 2,
   "metadata": {},
   "outputs": [],
   "source": [
    "net = LoNet()\n",
    "handler = LoNetHandler(net)"
   ]
  },
  {
   "cell_type": "code",
   "execution_count": 3,
   "metadata": {},
   "outputs": [
    {
     "data": {
      "text/plain": [
       "(<torch.utils.data.dataloader.DataLoader at 0x29e90287f10>,\n",
       " <torch.utils.data.dataloader.DataLoader at 0x29e9a84a100>,\n",
       " <torch.utils.data.dataloader.DataLoader at 0x29e9a84a220>)"
      ]
     },
     "execution_count": 3,
     "metadata": {},
     "output_type": "execute_result"
    }
   ],
   "source": [
    "handler.load_MNIST()"
   ]
  },
  {
   "cell_type": "code",
   "execution_count": 4,
   "metadata": {},
   "outputs": [
    {
     "name": "stdout",
     "output_type": "stream",
     "text": [
      "[1,  2000] loss: 0.306\n",
      "[1,  4000] loss: 0.113\n",
      "[1,  6000] loss: 0.080\n",
      "[1,  8000] loss: 0.075\n",
      "[1, 10000] loss: 0.064\n",
      "[2,  2000] loss: 0.047\n",
      "[2,  4000] loss: 0.051\n",
      "[2,  6000] loss: 0.049\n",
      "[2,  8000] loss: 0.043\n",
      "[2, 10000] loss: 0.044\n",
      "Finished Training\n"
     ]
    }
   ],
   "source": [
    "handler.train()"
   ]
  },
  {
   "cell_type": "code",
   "execution_count": 6,
   "metadata": {},
   "outputs": [],
   "source": [
    "handler.save()"
   ]
  }
 ],
 "metadata": {
  "kernelspec": {
   "display_name": "Python 3.9.12 ('base')",
   "language": "python",
   "name": "python3"
  },
  "language_info": {
   "codemirror_mode": {
    "name": "ipython",
    "version": 3
   },
   "file_extension": ".py",
   "mimetype": "text/x-python",
   "name": "python",
   "nbconvert_exporter": "python",
   "pygments_lexer": "ipython3",
   "version": "3.9.12"
  },
  "orig_nbformat": 4,
  "vscode": {
   "interpreter": {
    "hash": "9dfce6cdc948125c99bb270cadc4234b0f4772c86cce99013bd50e41cceb238c"
   }
  }
 },
 "nbformat": 4,
 "nbformat_minor": 2
}
