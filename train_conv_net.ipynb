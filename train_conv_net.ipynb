{
 "cells": [
  {
   "cell_type": "code",
   "execution_count": 1,
   "metadata": {},
   "outputs": [],
   "source": [
    "from conv_net import ConvNet\n",
    "from data_manager import DataManager\n",
    "from net_manager import NetManager"
   ]
  },
  {
   "cell_type": "code",
   "execution_count": 2,
   "metadata": {},
   "outputs": [],
   "source": [
    "net = ConvNet()\n",
    "data_manager = DataManager(dataset='mnist', batch_size=16, train_size=50000, val_size=10000)\n",
    "net_manager = NetManager(net, data_manager=data_manager, num_epochs=2, learning_rate=0.001)"
   ]
  },
  {
   "cell_type": "code",
   "execution_count": 3,
   "metadata": {},
   "outputs": [
    {
     "name": "stdout",
     "output_type": "stream",
     "text": [
      "[1,   500] loss: 0.486\n",
      "[1,  1000] loss: 0.139\n",
      "[1,  1500] loss: 0.117\n",
      "[1,  2000] loss: 0.094\n",
      "[1,  2500] loss: 0.074\n",
      "[1,  3000] loss: 0.057\n",
      "Average loss of epoch 1: 0.15492651975856628\n",
      "Validation accuracy of epoch 1: 98.0 %\n",
      "[2,   500] loss: 0.057\n",
      "[2,  1000] loss: 0.046\n",
      "[2,  1500] loss: 0.047\n",
      "[2,  2000] loss: 0.054\n",
      "[2,  2500] loss: 0.050\n",
      "[2,  3000] loss: 0.042\n",
      "Average loss of epoch 2: 0.04724854670274188\n",
      "Validation accuracy of epoch 2: 98.8 %\n",
      "Finished Training\n"
     ]
    }
   ],
   "source": [
    "net_manager.train()"
   ]
  },
  {
   "cell_type": "code",
   "execution_count": 4,
   "metadata": {},
   "outputs": [
    {
     "name": "stdout",
     "output_type": "stream",
     "text": [
      "Total test accuracy: 98.9 %\n",
      "Accuracy of class 0: 99.8 %\n",
      "Accuracy of class 1: 99.1 %\n",
      "Accuracy of class 2: 99.2 %\n",
      "Accuracy of class 3: 99.1 %\n",
      "Accuracy of class 4: 98.8 %\n",
      "Accuracy of class 5: 98.0 %\n",
      "Accuracy of class 6: 98.5 %\n",
      "Accuracy of class 7: 98.5 %\n",
      "Accuracy of class 8: 99.4 %\n",
      "Accuracy of class 9: 98.7 %\n"
     ]
    }
   ],
   "source": [
    "net_manager.test(print_results=True)"
   ]
  },
  {
   "cell_type": "code",
   "execution_count": 5,
   "metadata": {},
   "outputs": [],
   "source": [
    "net_manager.save_model()"
   ]
  }
 ],
 "metadata": {
  "kernelspec": {
   "display_name": "Python 3.9.12 ('base')",
   "language": "python",
   "name": "python3"
  },
  "language_info": {
   "codemirror_mode": {
    "name": "ipython",
    "version": 3
   },
   "file_extension": ".py",
   "mimetype": "text/x-python",
   "name": "python",
   "nbconvert_exporter": "python",
   "pygments_lexer": "ipython3",
   "version": "3.9.12 (main, Apr  4 2022, 05:22:27) [MSC v.1916 64 bit (AMD64)]"
  },
  "orig_nbformat": 4,
  "vscode": {
   "interpreter": {
    "hash": "9dfce6cdc948125c99bb270cadc4234b0f4772c86cce99013bd50e41cceb238c"
   }
  }
 },
 "nbformat": 4,
 "nbformat_minor": 2
}
