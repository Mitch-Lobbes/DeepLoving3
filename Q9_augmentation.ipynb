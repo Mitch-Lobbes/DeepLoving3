{
 "cells": [
  {
   "cell_type": "markdown",
   "metadata": {},
   "source": [
    "# Question 9 - Data Augmentation  with Torchvision"
   ]
  },
  {
   "cell_type": "code",
   "execution_count": 1,
   "metadata": {},
   "outputs": [
    {
     "name": "stderr",
     "output_type": "stream",
     "text": [
      "c:\\ProgramData\\Anaconda3\\envs\\Py38\\lib\\site-packages\\tqdm\\auto.py:22: TqdmWarning: IProgress not found. Please update jupyter and ipywidgets. See https://ipywidgets.readthedocs.io/en/stable/user_install.html\n",
      "  from .autonotebook import tqdm as notebook_tqdm\n"
     ]
    }
   ],
   "source": [
    "import torch\n",
    "import torchvision\n",
    "import torchvision.transforms as transforms\n",
    "import matplotlib.pyplot as plt\n",
    "import numpy as np\n",
    "from torch.utils.data import Dataset\n",
    "from torchvision.utils import make_grid"
   ]
  },
  {
   "cell_type": "markdown",
   "metadata": {},
   "source": [
    "## Turning Subsets into Datasets"
   ]
  },
  {
   "cell_type": "markdown",
   "metadata": {},
   "source": [
    "## Some visualisation functions"
   ]
  },
  {
   "cell_type": "code",
   "execution_count": 2,
   "metadata": {},
   "outputs": [],
   "source": [
    "def show(data_loader):\n",
    "\n",
    "    images, foo = next(iter(data_loader))\n",
    "\n",
    "    npimg = make_grid(images, normalize=True, pad_value=.5).numpy()\n",
    "    fig, ax = plt.subplots(figsize=((13, 5)))\n",
    "    ax.imshow(np.transpose(npimg, (1, 2, 0)))\n",
    "    plt.setp(ax, xticks=[], yticks=[])\n",
    "\n",
    "    return fig, ax"
   ]
  },
  {
   "cell_type": "code",
   "execution_count": 3,
   "metadata": {},
   "outputs": [],
   "source": [
    "def show_dataset(dataset, n=6):\n",
    "  img = np.vstack((np.hstack((np.asarray(dataset[i][0]) for _ in range(n)))\n",
    "                   for i in range(len(dataset))))\n",
    "  plt.imshow(img)\n",
    "  plt.axis('off')"
   ]
  },
  {
   "cell_type": "markdown",
   "metadata": {},
   "source": [
    "## Transformations"
   ]
  },
  {
   "cell_type": "code",
   "execution_count": 4,
   "metadata": {},
   "outputs": [],
   "source": [
    "# Transformations (applied in the same order as they are passed to the compose)\n",
    "# Horizontal and vertical flips are really popular but a horizontal flip of 6 would become a 9 and\n",
    "# vertical flips are not a realistic transformation encountered in the real world\n",
    "\n",
    "# Zoom in with center crop\n",
    "transform_1 = transforms.Compose([\n",
    "                transforms.ToPILImage(),\n",
    "                transforms.transforms.CenterCrop(18),\n",
    "                transforms.ToTensor(),\n",
    "                transforms.Normalize((0.1307,), (0.3081,))\n",
    "            ])\n",
    "\n",
    "# Zoom out with center crop\n",
    "transform_2 = transforms.Compose([\n",
    "                #transforms.ToPILImage(),\n",
    "                transforms.CenterCrop(128),\n",
    "                transforms.ToTensor(),\n",
    "                transforms.Normalize((0.1307,), (0.3081,))\n",
    "            ])\n",
    "\n",
    "# Add color jitter\n",
    "transform_3 = transforms.Compose([\n",
    "                #transforms.ToPILImage(),\n",
    "                transforms.ColorJitter(brightness=0.50, contrast=0.50, saturation=0.05, hue=0.05),\n",
    "                transforms.ToTensor(),\n",
    "                transforms.Normalize((0.1307,), (0.3081,)),\n",
    "            ])\n",
    "\n",
    "# Add Gaussian Blur\n",
    "transform_4 = transforms.Compose([\n",
    "                #transforms.ToPILImage(),\n",
    "                transforms.GaussianBlur(kernel_size=(5, 9), sigma=(0.1, 5)),\n",
    "                transforms.ToTensor(),\n",
    "                transforms.Normalize((0.1307,), (0.3081,))\n",
    "            ])\n",
    "\n",
    "# Random Rotation with 45 degrees\n",
    "transform_5 = transforms.Compose([\n",
    "                #transforms.ToPILImage(),\n",
    "                transforms.RandomRotation(degrees=45),\n",
    "                transforms.ToTensor(),\n",
    "                transforms.Normalize((0.1307,), (0.3081,))\n",
    "            ])"
   ]
  },
  {
   "cell_type": "markdown",
   "metadata": {},
   "source": [
    "## Testing the different transformations by transforming the entire dataset object"
   ]
  },
  {
   "cell_type": "code",
   "execution_count": 5,
   "metadata": {},
   "outputs": [],
   "source": [
    "train_val = torchvision.datasets.MNIST(root='data', train=True, download=True, transform=transform_2)\n",
    "trainloader = torch.utils.data.DataLoader(train_val, batch_size=16, shuffle=True, num_workers=2)"
   ]
  },
  {
   "cell_type": "code",
   "execution_count": 6,
   "metadata": {},
   "outputs": [
    {
     "data": {
      "image/png": "[encoded data removed]",
      "text/plain": [
       "<Figure size 1300x500 with 1 Axes>"
      ]
     },
     "metadata": {},
     "output_type": "display_data"
    }
   ],
   "source": [
    "fig, ax = show(trainloader)\n",
    "plt.show()"
   ]
  },
  {
   "cell_type": "markdown",
   "metadata": {},
   "source": [
    "## Applying the transformations to subset objects"
   ]
  },
  {
   "cell_type": "code",
   "execution_count": 7,
   "metadata": {},
   "outputs": [],
   "source": [
    "#Function to turn subset into dataset\n",
    "class DatasetFromSubset(Dataset):\n",
    "    def __init__(self, subset, transform=None):\n",
    "        self.subset = subset\n",
    "        self.transform = transform\n",
    "\n",
    "    def __getitem__(self, index):\n",
    "        x, y = self.subset[index]\n",
    "        if self.transform:\n",
    "            x = self.transform(x)\n",
    "        return x, y\n",
    "\n",
    "    def __len__(self):\n",
    "        return len(self.subset)"
   ]
  },
  {
   "cell_type": "code",
   "execution_count": 8,
   "metadata": {},
   "outputs": [],
   "source": [
    "train_size = 50000\n",
    "val_size = 10000\n",
    "train_val = torchvision.datasets.MNIST(root='data', train=True, download=True, transform=transforms.ToTensor())\n",
    "train, val = torch.utils.data.random_split(train_val, [train_size, val_size])"
   ]
  },
  {
   "cell_type": "code",
   "execution_count": 9,
   "metadata": {},
   "outputs": [],
   "source": [
    "split_1, split_2, split_3, split_4, split_5, remain_train = torch.utils.data.random_split(train, [1000, 1000, 1000, 1000, 1000, 45000])"
   ]
  },
  {
   "cell_type": "code",
   "execution_count": 11,
   "metadata": {},
   "outputs": [],
   "source": [
    "augm_1 = DatasetFromSubset(subset=split_1, transform=transform_1)\n",
    "augm_2 = DatasetFromSubset(subset=split_2, transform=transform_2)\n",
    "augm_3 = DatasetFromSubset(subset=split_3, transform=transform_3)\n",
    "augm_4 = DatasetFromSubset(subset=split_4, transform=transform_4)\n",
    "augm_5 = DatasetFromSubset(subset=split_5, transform=transform_5)"
   ]
  },
  {
   "cell_type": "code",
   "execution_count": 12,
   "metadata": {},
   "outputs": [],
   "source": [
    "train_complete = torch.utils.data.ConcatDataset([augm_1, augm_2, augm_3, augm_4, augm_5, train])\n",
    "trainloader = torch.utils.data.DataLoader(train_complete, batch_size=16, shuffle=True, num_workers=2)"
   ]
  },
  {
   "cell_type": "code",
   "execution_count": 13,
   "metadata": {},
   "outputs": [
    {
     "data": {
      "text/plain": [
       "torch.utils.data.dataset.ConcatDataset"
      ]
     },
     "execution_count": 13,
     "metadata": {},
     "output_type": "execute_result"
    }
   ],
   "source": [
    "type(train_complete)"
   ]
  },
  {
   "cell_type": "code",
   "execution_count": 12,
   "metadata": {},
   "outputs": [],
   "source": [
    "fig, ax = show(trainloader)\n",
    "plt.show()"
   ]
  }
 ],
 "metadata": {
  "kernelspec": {
   "display_name": "Python 3.8.13 ('Py38')",
   "language": "python",
   "name": "python3"
  },
  "language_info": {
   "codemirror_mode": {
    "name": "ipython",
    "version": 3
   },
   "file_extension": ".py",
   "mimetype": "text/x-python",
   "name": "python",
   "nbconvert_exporter": "python",
   "pygments_lexer": "ipython3",
   "version": "3.8.13"
  },
  "orig_nbformat": 4,
  "vscode": {
   "interpreter": {
    "hash": "c3bc8e9c30d4e726dd0503df8cfb5182dc2bb998299566da802f113a845f1345"
   }
  }
 },
 "nbformat": 4,
 "nbformat_minor": 2
}
