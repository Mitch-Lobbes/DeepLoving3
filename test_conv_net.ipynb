{
 "cells": [
  {
   "cell_type": "code",
   "execution_count": 1,
   "metadata": {},
   "outputs": [],
   "source": [
    "from conv_net import ConvNet\n",
    "from data_manager import DataManager\n",
    "from net_manager import NetManager"
   ]
  },
  {
   "cell_type": "code",
   "execution_count": 2,
   "metadata": {},
   "outputs": [],
   "source": [
    "net = ConvNet()\n",
    "data_manager = DataManager(dataset='mnist', batch_size=16)\n",
    "net_manager = NetManager(net, data_manager=data_manager)\n",
    "net_manager.load_model()"
   ]
  },
  {
   "cell_type": "code",
   "execution_count": 3,
   "metadata": {},
   "outputs": [
    {
     "name": "stdout",
     "output_type": "stream",
     "text": [
      "Total test accuracy: 98.6 %\n",
      "Accuracy of class 0: 99.7 %\n",
      "Accuracy of class 1: 99.4 %\n",
      "Accuracy of class 2: 97.4 %\n",
      "Accuracy of class 3: 99.3 %\n",
      "Accuracy of class 4: 98.6 %\n",
      "Accuracy of class 5: 99.1 %\n",
      "Accuracy of class 6: 97.0 %\n",
      "Accuracy of class 7: 99.3 %\n",
      "Accuracy of class 8: 97.4 %\n",
      "Accuracy of class 9: 98.5 %\n"
     ]
    }
   ],
   "source": [
    "net_manager.test(print_results=True)"
   ]
  }
 ],
 "metadata": {
  "kernelspec": {
   "display_name": "Python 3.9.12 ('base')",
   "language": "python",
   "name": "python3"
  },
  "language_info": {
   "codemirror_mode": {
    "name": "ipython",
    "version": 3
   },
   "file_extension": ".py",
   "mimetype": "text/x-python",
   "name": "python",
   "nbconvert_exporter": "python",
   "pygments_lexer": "ipython3",
   "version": "3.9.12 (main, Apr  4 2022, 05:22:27) [MSC v.1916 64 bit (AMD64)]"
  },
  "orig_nbformat": 4,
  "vscode": {
   "interpreter": {
    "hash": "9dfce6cdc948125c99bb270cadc4234b0f4772c86cce99013bd50e41cceb238c"
   }
  }
 },
 "nbformat": 4,
 "nbformat_minor": 2
}
