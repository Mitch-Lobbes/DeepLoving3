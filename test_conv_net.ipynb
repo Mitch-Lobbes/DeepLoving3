{
 "cells": [
  {
   "cell_type": "code",
   "execution_count": 1,
   "metadata": {},
   "outputs": [],
   "source": [
    "from conv_net import ConvNet\n",
    "from data_manager import DataManager\n",
    "from net_manager import NetManager"
   ]
  },
  {
   "cell_type": "code",
   "execution_count": 2,
   "metadata": {},
   "outputs": [],
   "source": [
    "net = ConvNet()\n",
    "data_manager = DataManager(dataset='mnist', batch_size=16, train_size=50000, val_size=10000)\n",
    "net_manager = NetManager(net, data_manager=data_manager, num_epochs=2, learning_rate=0.001)\n",
    "net_manager.load_model()"
   ]
  },
  {
   "cell_type": "code",
   "execution_count": 3,
   "metadata": {},
   "outputs": [],
   "source": [
    "net_manager.test()"
   ]
  }
 ],
 "metadata": {
  "kernelspec": {
   "display_name": "Python 3.9.12 ('base')",
   "language": "python",
   "name": "python3"
  },
  "language_info": {
   "codemirror_mode": {
    "name": "ipython",
    "version": 3
   },
   "file_extension": ".py",
   "mimetype": "text/x-python",
   "name": "python",
   "nbconvert_exporter": "python",
   "pygments_lexer": "ipython3",
   "version": "3.9.12"
  },
  "orig_nbformat": 4,
  "vscode": {
   "interpreter": {
    "hash": "9dfce6cdc948125c99bb270cadc4234b0f4772c86cce99013bd50e41cceb238c"
   }
  }
 },
 "nbformat": 4,
 "nbformat_minor": 2
}
