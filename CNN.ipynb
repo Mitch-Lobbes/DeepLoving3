{
 "cells": [
  {
   "cell_type": "code",
   "execution_count": 3,
   "outputs": [],
   "source": [
    "import torch\n",
    "import torchvision\n",
    "import torchvision.transforms as transforms\n",
    "import torch.nn.functional as F"
   ],
   "metadata": {
    "collapsed": false,
    "pycharm": {
     "name": "#%%\n"
    }
   }
  },
  {
   "cell_type": "code",
   "execution_count": 46,
   "metadata": {
    "collapsed": true,
    "pycharm": {
     "name": "#%%\n"
    }
   },
   "outputs": [],
   "source": [
    "def convolutions(input_image, filter, output_channels, padding, stride):\n",
    "\n",
    "\n",
    "\n",
    "    # # Get the dimensions of the input volume\n",
    "    # n_examples = len(tensor_x)\n",
    "    # n_channels = len(tensor_x[0])\n",
    "    # height = len(tensor_x[0][0])\n",
    "    # width = len(tensor_x[0][0][0])\n",
    "    #\n",
    "    # # Get the dimensions of the kernel\n",
    "    # n_kernels = output_channels\n",
    "    # k_height = kernel[0]\n",
    "    # k_width = kernel[1]\n",
    "    #\n",
    "    # # Compute the dimensions of the output volume\n",
    "    # out_height = int((height - k_height + 2 * padding)/ stride + 1)\n",
    "    # out_width = int((width - k_width + 2 * padding)/ stride + 1)\n",
    "    #\n",
    "    # # Initialize the output volume with zeros\n",
    "    # output_tensor = [[[0 for _ in range(out_width)] for _ in range(out_height)] for _ in range(n_kernels)]\n",
    "    # print(\"Output tensor created!\")\n",
    "    # print(output_tensor)\n",
    "\n",
    "\n",
    "\n",
    "    return output_tensor\n"
   ]
  },
  {
   "cell_type": "code",
   "execution_count": 117,
   "outputs": [
    {
     "name": "stdout",
     "output_type": "stream",
     "text": [
      "Input Shape = (4, 3, 3, 3)\n",
      "Filter Shape = (2, 3, 2, 2)\n",
      "Output Shape = (2, 3, 2, 2)\n",
      "\n",
      "For 1 Operation\n",
      "Input Image = [[[1, 2, 3], [4, 5, 6], [7, 8, 9]], [[1, 2, 3], [4, 5, 6], [7, 8, 9]], [[1, 2, 3], [4, 5, 6], [7, 8, 9]]]\n",
      "Filter = [[[1, 2], [3, 4]], [[1, 2], [3, 4]], [[1, 2], [3, 4]]]\n",
      "Output = [[[0, 0], [0, 0]], [[0, 0], [0, 0]], [[0, 0], [0, 0]]]\n",
      "\n",
      "\n",
      "[[[37, 47], [67, 77]], [[37, 47], [67, 77]], [[37, 47], [67, 77]]]\n"
     ]
    }
   ],
   "source": [
    "# Define Input\n",
    "batch_size = 4 # How many examples (images) per batch\n",
    "color_channels = 3 # The depth of a single example (RGB)\n",
    "input_width = 3 # Width of an image\n",
    "input_height = 3 # Height of an image\n",
    "input_shape = (batch_size, color_channels, input_height, input_width)\n",
    "\n",
    "input_image = [[[x+input_width*y for x in range(1,input_width+1)] for y in range(0, input_height)] for _ in range(0, color_channels)]\n",
    "\n",
    "# Define the filter\n",
    "filter_width = 2\n",
    "filter_height = 2\n",
    "output_channels = 2\n",
    "filter_shape = (output_channels, color_channels,  filter_height, filter_width)\n",
    "filter = [[[x+filter_width*y for x in range(1,filter_width+1)] for y in range(0, filter_height)] for _ in range(0, color_channels)]\n",
    "\n",
    "# Extra\n",
    "padding = 0\n",
    "stride = 1\n",
    "\n",
    "# Define output\n",
    "output_height = int((input_height - filter_height + 2 * padding)/ stride + 1)\n",
    "output_width = int((input_width - filter_width + 2 * padding)/ stride + 1)\n",
    "\n",
    "output_shape = (output_channels, color_channels, output_height, output_width)\n",
    "output_tensor = [[[0 for x in range(output_width)] for y in range(output_height)] for _ in range(0, color_channels)]\n",
    "\n",
    "print(f\"Input Shape = {input_shape}\")\n",
    "print(f\"Filter Shape = {filter_shape}\")\n",
    "print(f\"Output Shape = {output_shape}\")\n",
    "print(\"\\nFor 1 Operation\")\n",
    "print(f\"Input Image = {input_image}\")\n",
    "print(f\"Filter = {filter}\")\n",
    "print(f\"Output = {output_tensor}\")\n",
    "print(\"\\n\")\n",
    "\n",
    "for c in range(0,color_channels):\n",
    "    for h in range(0,output_height):\n",
    "        for w in range(0,output_width):\n",
    "\n",
    "            # Define where the filter is over the input image\n",
    "\n",
    "            # Height\n",
    "            h0 = h * stride\n",
    "            hn = h0 + filter_height\n",
    "\n",
    "            # Width\n",
    "            w0 = w * stride\n",
    "            wn = w0 + filter_width\n",
    "\n",
    "            # Extract specific slice from input image where the filter is currently hovering\n",
    "            image_slice = [input_image[c][h][w] for h in range(h0, hn) for w in range(w0, wn)]\n",
    "\n",
    "            # Calculate the dot product and assign to output tensor\n",
    "            result = sum(i[0] * i[1] for i in zip(image_slice, sum(filter[c], [])))\n",
    "            output_tensor[c][h][w] = result\n",
    "\n",
    "print(output_tensor)"
   ],
   "metadata": {
    "collapsed": false,
    "pycharm": {
     "name": "#%%\n"
    }
   }
  },
  {
   "cell_type": "code",
   "execution_count": null,
   "outputs": [],
   "source": [],
   "metadata": {
    "collapsed": false,
    "pycharm": {
     "name": "#%%\n"
    }
   }
  }
 ],
 "metadata": {
  "kernelspec": {
   "display_name": "Python 3",
   "language": "python",
   "name": "python3"
  },
  "language_info": {
   "codemirror_mode": {
    "name": "ipython",
    "version": 2
   },
   "file_extension": ".py",
   "mimetype": "text/x-python",
   "name": "python",
   "nbconvert_exporter": "python",
   "pygments_lexer": "ipython2",
   "version": "2.7.6"
  }
 },
 "nbformat": 4,
 "nbformat_minor": 0
}