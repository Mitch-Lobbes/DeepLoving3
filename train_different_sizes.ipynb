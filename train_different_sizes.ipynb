{
 "cells": [
  {
   "cell_type": "code",
   "execution_count": 1,
   "metadata": {},
   "outputs": [],
   "source": [
    "from conv_net import ConvNet\n",
    "from data_manager import DataManager\n",
    "from net_manager import NetManager\n",
    "import os"
   ]
  },
  {
   "cell_type": "code",
   "execution_count": 2,
   "metadata": {},
   "outputs": [
    {
     "name": "stdout",
     "output_type": "stream",
     "text": [
      "<class 'torch.utils.data.dataset.Subset'>\n",
      "<class 'torch.utils.data.dataset.Subset'>\n",
      "<class 'torch.utils.data.dataset.Subset'>\n",
      "<class 'torch.utils.data.dataset.Subset'>\n",
      "<class 'torch.utils.data.dataset.Subset'>\n",
      "<class 'torch.utils.data.dataset.Subset'>\n"
     ]
    }
   ],
   "source": [
    "net = ConvNet()\n",
    "data_manager = DataManager.create_different_sizes(batch_size=8)\n",
    "net_manager = NetManager(net, data_manager=data_manager, learning_rate=0.001, betas=(0.9, 0.99), weight_decay=0.0)"
   ]
  },
  {
   "cell_type": "code",
   "execution_count": 3,
   "metadata": {},
   "outputs": [
    {
     "name": "stdout",
     "output_type": "stream",
     "text": [
      "Average loss of epoch 1: 0.558\n",
      "Train accuracy of epoch 1: 93.6 %\n",
      "Validation accuracy of epoch 1: 93.0 %\n",
      "Average loss of epoch 2: 0.196\n",
      "Train accuracy of epoch 2: 95.4 %\n",
      "Validation accuracy of epoch 2: 95.0 %\n",
      "Finished Training\n"
     ]
    }
   ],
   "source": [
    "net_manager.train(print_results=True)"
   ]
  },
  {
   "cell_type": "code",
   "execution_count": 4,
   "metadata": {},
   "outputs": [
    {
     "name": "stdout",
     "output_type": "stream",
     "text": [
      "Total test accuracy: 95.4 %\n",
      "Accuracy of class 0: 98.3 %\n",
      "Accuracy of class 1: 99.5 %\n",
      "Accuracy of class 2: 95.3 %\n",
      "Accuracy of class 3: 94.9 %\n",
      "Accuracy of class 4: 98.1 %\n",
      "Accuracy of class 5: 96.6 %\n",
      "Accuracy of class 6: 98.0 %\n",
      "Accuracy of class 7: 95.0 %\n",
      "Accuracy of class 8: 86.8 %\n",
      "Accuracy of class 9: 91.4 %\n"
     ]
    }
   ],
   "source": [
    "net_manager.test(print_results=True)"
   ]
  },
  {
   "cell_type": "code",
   "execution_count": 6,
   "metadata": {},
   "outputs": [],
   "source": [
    "net_manager.save_model(os.path.join('saved', 'different_sizes'))"
   ]
  }
 ],
 "metadata": {
  "kernelspec": {
   "display_name": "Python 3.9.12 ('base')",
   "language": "python",
   "name": "python3"
  },
  "language_info": {
   "codemirror_mode": {
    "name": "ipython",
    "version": 3
   },
   "file_extension": ".py",
   "mimetype": "text/x-python",
   "name": "python",
   "nbconvert_exporter": "python",
   "pygments_lexer": "ipython3",
   "version": "3.9.12"
  },
  "orig_nbformat": 4,
  "vscode": {
   "interpreter": {
    "hash": "9dfce6cdc948125c99bb270cadc4234b0f4772c86cce99013bd50e41cceb238c"
   }
  }
 },
 "nbformat": 4,
 "nbformat_minor": 2
}
